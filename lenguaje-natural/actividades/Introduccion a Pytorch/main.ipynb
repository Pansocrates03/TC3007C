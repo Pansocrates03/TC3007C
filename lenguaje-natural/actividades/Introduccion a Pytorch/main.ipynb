{
 "cells": [
  {
   "cell_type": "markdown",
   "id": "addecaa6",
   "metadata": {},
   "source": [
    "# Introducción a Pytorch\n",
    "\n",
    "- Esteban Sierra Baccio | A00836286"
   ]
  },
  {
   "cell_type": "markdown",
   "id": "70092743",
   "metadata": {},
   "source": [
    "## Sección 1\n",
    "\n",
    "1. Explica brevemente dos ventajas que ofrece PyTorch frente a otros frameworks como TensorFlow o JAX.\n",
    "\n",
    "Las dos principales ventajas que ofrece PyTorch sobre frameworks como TensorFlow o JAX son su ejecución dinámica y su fuerte adopción en la investigación. La ejecución dinámica de PyTorch, a través de sus gráficos computacionales definidos por ejecución (run-by-run), le da una sintaxis muy \"Pythonic\" y permite una depuración más fácil e intuitiva, ya que el modelo se comporta como código Python normal, facilitando la impresión de variables y el uso de depuradores estándar. Además, PyTorch se ha convertido en el estándar de facto en la comunidad académica, lo que significa que la mayoría de los papers y modelos de inteligencia artificial de última generación se implementan primero y se publican con código en PyTorch, dando a los investigadores un acceso más rápido a las innovaciones.\n",
    "\n",
    "2. Define qué es un grafo computacional dinámico y por qué es útil en PyTorch.\n",
    "\n",
    "Un grafo computacional dinámico (dynamic computational graph, o DCG) es una estructura de datos que define las operaciones matemáticas en una red neuronal y se construye \"sobre la marcha\" a medida que el código ejecuta las operaciones. A diferencia de los grafos estáticos (usados tradicionalmente por TensorFlow), el grafo dinámico de PyTorch se redefine en cada iteración de forward pass y backward pass. Esta característica es fundamentalmente útil porque permite el uso de control de flujo de Python (como sentencias if, bucles for, o debugging estándar) directamente en la lógica del modelo. Esto hace que la depuración sea mucho más fácil y proporciona una flexibilidad extrema para construir arquitecturas de modelos complejas e irregulares, como redes neuronales recurrentes o modelos con longitudes de secuencia variables.\n",
    "\n",
    "3. ¿Para qué sirve la clase `torch.utils.data.Dataset` y cómo se utiliza en el manejo de datos personalizados?\n",
    "\n",
    "La clase torch.utils.data.Dataset es una clase abstracta fundamental en PyTorch que sirve como una interfaz estándar para acceder a los datos, encapsulando la lógica para recuperar muestras individuales y sus etiquetas. Para manejar datos personalizados, se debe heredar de esta clase e implementar dos métodos clave: __len__, que devuelve el número total de muestras, y __getitem__(idx), que carga, preprocesa y devuelve una única muestra y su target dado un índice. Esta estandarización permite que la clase torch.utils.data.DataLoader pueda tomar este objeto Dataset y, de manera eficiente y paralela, agrupar las muestras en mini-lotes listos para el entrenamiento del modelo, manejando automáticamente el shuffling y la carga multiproceso."
   ]
  },
  {
   "cell_type": "markdown",
   "id": "c80e7318",
   "metadata": {},
   "source": [
    "## Sección 2"
   ]
  },
  {
   "cell_type": "markdown",
   "id": "405b184c",
   "metadata": {},
   "source": [
    "*Señala el código en PyTorch que realice lo siguiente:*\n",
    "\n",
    "1. Crear un tensor de forma (2, 3, 4) con valores aleatorios entre 0 y 1.\n",
    "\n",
    "`torch.rand(2, 3, 4)`\n",
    "\n",
    "2. Convertir un arreglo de NumPy a un tensor de PyTorch y luego convertirlo de nuevo a un arreglo de NumPy."
   ]
  },
  {
   "cell_type": "code",
   "execution_count": null,
   "id": "666172e5",
   "metadata": {},
   "outputs": [],
   "source": [
    "import numpy as np\n",
    "import torch\n",
    "\n",
    "# Create a NumPy array\n",
    "numpy_array = np.array([1, 2, 3, 4])\n",
    "\n",
    "# Convert to PyTorch tensor\n",
    "tensor = torch.from_numpy(numpy_array)\n",
    "print(\"NumPy Array:\", numpy_array)\n",
    "print(\"Torch Tensor:\", tensor)"
   ]
  },
  {
   "cell_type": "markdown",
   "id": "9553b5b2",
   "metadata": {},
   "source": [
    "3. Sumar dos tensores x1 y x2 de forma (2, 3) usando una operación in-place. Explica la diferencia con una operación normal."
   ]
  },
  {
   "cell_type": "code",
   "execution_count": null,
   "id": "facb4873",
   "metadata": {},
   "outputs": [],
   "source": [
    "import torch\n",
    "\n",
    "x = torch.rand(2, 3)\n",
    "y = torch.rand(2, 3)\n",
    "\n",
    "# operacion normal\n",
    "z = x + y\n",
    "\n",
    "# operacion in place\n",
    "z += 1\n",
    "\n",
    "print(z)"
   ]
  },
  {
   "cell_type": "markdown",
   "id": "d33d2229",
   "metadata": {},
   "source": [
    "La diferencia entre una operación normal y una in-place es que una operación normal generalmente crea un nuevo objeto o espacio de memoria para almacenar el resultado, dejando el objeto original sin cambios."
   ]
  },
  {
   "cell_type": "markdown",
   "id": "50340d30",
   "metadata": {},
   "source": [
    "4. Reorganizar x = torch.arange(6) a forma (2, 3) y luego permutar sus dimensiones."
   ]
  },
  {
   "cell_type": "code",
   "execution_count": 4,
   "id": "705f5483",
   "metadata": {},
   "outputs": [
    {
     "name": "stdout",
     "output_type": "stream",
     "text": [
      "tensor([[0, 1, 2],\n",
      "        [3, 4, 5]])\n",
      "tensor([[0, 3],\n",
      "        [1, 4],\n",
      "        [2, 5]])\n"
     ]
    }
   ],
   "source": [
    "import torch\n",
    "x = torch.arange(6).reshape(2, 3)\n",
    "print(x)\n",
    "x = x.permute(1, 0)\n",
    "print(x)"
   ]
  },
  {
   "cell_type": "markdown",
   "id": "20d299e3",
   "metadata": {},
   "source": [
    "5. Multiplicar matrices entre x de forma (2, 3) y W de forma (3, 3)."
   ]
  },
  {
   "cell_type": "code",
   "execution_count": 8,
   "id": "a5bd856d",
   "metadata": {},
   "outputs": [
    {
     "name": "stdout",
     "output_type": "stream",
     "text": [
      "tensor([[0.7757, 1.1916, 0.8522],\n",
      "        [0.7672, 0.9700, 1.1284]])\n"
     ]
    }
   ],
   "source": [
    "import torch\n",
    "x = torch.rand(6).reshape(2, 3)\n",
    "y = torch.rand(9).reshape(3, 3)\n",
    "z = torch.matmul(x, y)\n",
    "print(z)"
   ]
  },
  {
   "cell_type": "markdown",
   "id": "d80eb7f1",
   "metadata": {},
   "source": [
    "6. Dado x = torch.arange(12).view(3, 4), obtener:\n",
    "    1. La segunda columna\n",
    "    2. La primera fila\n",
    "    3. Las dos primeras filas y la última columna"
   ]
  },
  {
   "cell_type": "code",
   "execution_count": 9,
   "id": "76ac4f99",
   "metadata": {},
   "outputs": [
    {
     "name": "stdout",
     "output_type": "stream",
     "text": [
      "Matriz x:\n",
      " tensor([[ 0,  1,  2,  3],\n",
      "        [ 4,  5,  6,  7],\n",
      "        [ 8,  9, 10, 11]])\n",
      "Segunda columna:\n",
      " tensor([1, 5, 9])\n",
      "Primera fila:\n",
      " tensor([0, 1, 2, 3])\n",
      "Dos primeras filas y última columna:\n",
      " tensor([3, 7])\n"
     ]
    }
   ],
   "source": [
    "\n",
    "import torch\n",
    "x = torch.arange(12).view(3, 4)\n",
    "print(\"Matriz x:\\n\", x)\n",
    "segunda_columna = x[:, 1]\n",
    "print(\"Segunda columna:\\n\", segunda_columna)\n",
    "primera_fila = x[0, :]\n",
    "print(\"Primera fila:\\n\", primera_fila)\n",
    "ultimas_dos_filas_ultima_columna = x[0:2, 3]\n",
    "print(\"Dos primeras filas y última columna:\\n\", ultimas_dos_filas_ultima_columna)"
   ]
  },
  {
   "cell_type": "markdown",
   "id": "eb53015d",
   "metadata": {},
   "source": [
    "7. Crear un tensor que requiera gradientes desde su creación y verificar si los está calculando."
   ]
  },
  {
   "cell_type": "code",
   "execution_count": 11,
   "id": "631add63",
   "metadata": {},
   "outputs": [
    {
     "name": "stdout",
     "output_type": "stream",
     "text": [
      "Tensor x:\n",
      " tensor([[ 0.5784,  0.5376,  1.7394],\n",
      "        [-1.5807,  0.4363, -1.0191],\n",
      "        [ 1.1168,  0.4584, -1.0253]], requires_grad=True)\n",
      "Tensor y (x + 2):\n",
      " tensor([[2.5784, 2.5376, 3.7394],\n",
      "        [0.4193, 2.4363, 0.9809],\n",
      "        [3.1168, 2.4584, 0.9747]], grad_fn=<AddBackward0>)\n",
      "Tensor z (mean of y):\n",
      " tensor(2.1380, grad_fn=<MeanBackward0>)\n",
      "Gradientes de x:\n",
      " tensor([[0.1111, 0.1111, 0.1111],\n",
      "        [0.1111, 0.1111, 0.1111],\n",
      "        [0.1111, 0.1111, 0.1111]])\n"
     ]
    }
   ],
   "source": [
    "import torch\n",
    "x = torch.randn(3, 3, requires_grad=True)\n",
    "print(\"Tensor x:\\n\", x)\n",
    "y = x + 2\n",
    "print(\"Tensor y (x + 2):\\n\", y)\n",
    "z = y.mean()\n",
    "print(\"Tensor z (mean of y):\\n\", z)\n",
    "z.backward()\n",
    "print(\"Gradientes de x:\\n\", x.grad)"
   ]
  },
  {
   "cell_type": "markdown",
   "id": "38032d14",
   "metadata": {},
   "source": [
    "8. Mover un tensor x a GPU si está disponible. Verificar primero si hay GPU disponible."
   ]
  },
  {
   "cell_type": "code",
   "execution_count": 14,
   "id": "956c2deb",
   "metadata": {},
   "outputs": [
    {
     "name": "stdout",
     "output_type": "stream",
     "text": [
      "GPU no disponible. Tensor en CPU: tensor([[-0.2808, -0.7496,  0.6518],\n",
      "        [ 1.8922,  0.8290,  0.4128],\n",
      "        [ 0.8473, -2.2379,  1.3122]])\n"
     ]
    }
   ],
   "source": [
    "import torch\n",
    "x = torch.randn(3, 3)\n",
    "if torch.cuda.is_available():\n",
    "    x = x.to('cuda')\n",
    "    print(\"Tensor movido a GPU:\", x)\n",
    "else:\n",
    "    print(\"GPU no disponible. Tensor en CPU:\", x)"
   ]
  },
  {
   "cell_type": "markdown",
   "id": "40d1271f",
   "metadata": {},
   "source": [
    "9. Convertir un tensor que está en GPU a NumPy."
   ]
  },
  {
   "cell_type": "code",
   "execution_count": 15,
   "id": "f496ebda",
   "metadata": {},
   "outputs": [
    {
     "name": "stdout",
     "output_type": "stream",
     "text": [
      "[1 2 3]\n"
     ]
    }
   ],
   "source": [
    "import torch\n",
    "import numpy as np\n",
    "\n",
    "# Crear un tensor en GPU (si está disponible)\n",
    "device = torch.device('cuda' if torch.cuda.is_available() else 'cpu')\n",
    "gpu_tensor = torch.tensor([1, 2, 3], device=device)\n",
    "\n",
    "# Mover el tensor a la CPU y convertirlo a NumPy\n",
    "numpy_array = gpu_tensor.cpu().numpy()\n",
    "print(numpy_array)  # Salida: [1 2 3]   "
   ]
  },
  {
   "cell_type": "markdown",
   "id": "4d847c4b",
   "metadata": {},
   "source": [
    "10. Crear una red neuronal simple con una capa lineal de entrada de tamaño 10 y salida de tamaño 5."
   ]
  },
  {
   "cell_type": "code",
   "execution_count": 16,
   "id": "67b12353",
   "metadata": {},
   "outputs": [
    {
     "name": "stdout",
     "output_type": "stream",
     "text": [
      "Modelo creado:\n",
      " RedNeuronalSimple(\n",
      "  (capa_lineal): Linear(in_features=10, out_features=5, bias=True)\n",
      ")\n"
     ]
    }
   ],
   "source": [
    "import torch\n",
    "import torch.nn as nn\n",
    "\n",
    "class RedNeuronalSimple(nn.Module):\n",
    "    def __init__(self):\n",
    "        super(RedNeuronalSimple, self).__init__()\n",
    "        self.capa_lineal = nn.Linear(10, 5)\n",
    "\n",
    "    def forward(self, x):\n",
    "        return self.capa_lineal(x)\n",
    "\n",
    "modelo = RedNeuronalSimple()\n",
    "print(\"Modelo creado:\\n\", modelo)"
   ]
  },
  {
   "cell_type": "markdown",
   "id": "1a0ea780",
   "metadata": {},
   "source": [
    "11. Aplicar una función de activación ReLU a un tensor x."
   ]
  },
  {
   "cell_type": "code",
   "execution_count": 18,
   "id": "2d781a15",
   "metadata": {},
   "outputs": [
    {
     "name": "stdout",
     "output_type": "stream",
     "text": [
      "tensor([0., 0., 1., 2.])\n"
     ]
    }
   ],
   "source": [
    "import torch\n",
    "x = torch.tensor([-1.0, 0.0, 1.0, 2.0])\n",
    "relu = torch.nn.ReLU()\n",
    "y = relu(x)\n",
    "print(y) "
   ]
  }
 ],
 "metadata": {
  "kernelspec": {
   "display_name": ".venv (3.12.0)",
   "language": "python",
   "name": "python3"
  },
  "language_info": {
   "codemirror_mode": {
    "name": "ipython",
    "version": 3
   },
   "file_extension": ".py",
   "mimetype": "text/x-python",
   "name": "python",
   "nbconvert_exporter": "python",
   "pygments_lexer": "ipython3",
   "version": "3.12.0"
  }
 },
 "nbformat": 4,
 "nbformat_minor": 5
}
